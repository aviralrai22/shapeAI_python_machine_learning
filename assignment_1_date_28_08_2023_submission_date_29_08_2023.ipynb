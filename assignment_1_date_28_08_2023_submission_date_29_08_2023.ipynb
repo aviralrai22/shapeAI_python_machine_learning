{
  "nbformat": 4,
  "nbformat_minor": 0,
  "metadata": {
    "colab": {
      "provenance": [],
      "authorship_tag": "ABX9TyN2N7zZBjvgKzEl9ijak58W",
      "include_colab_link": true
    },
    "kernelspec": {
      "name": "python3",
      "display_name": "Python 3"
    },
    "language_info": {
      "name": "python"
    }
  },
  "cells": [
    {
      "cell_type": "markdown",
      "metadata": {
        "id": "view-in-github",
        "colab_type": "text"
      },
      "source": [
        "<a href=\"https://colab.research.google.com/github/aviralrai22/shapeAI_python_machine_learning/blob/main/assignment_1_date_28_08_2023_submission_date_29_08_2023.ipynb\" target=\"_parent\"><img src=\"https://colab.research.google.com/assets/colab-badge.svg\" alt=\"Open In Colab\"/></a>"
      ]
    },
    {
      "cell_type": "code",
      "execution_count": 14,
      "metadata": {
        "colab": {
          "base_uri": "https://localhost:8080/"
        },
        "id": "wD6p_EHu0Rrf",
        "outputId": "0800f0a1-4ce4-4779-bf30-e809e6abc0e7"
      },
      "outputs": [
        {
          "output_type": "stream",
          "name": "stdout",
          "text": [
            "50.24\n"
          ]
        }
      ],
      "source": [
        "#write the program to calculate the area of circle\n",
        "pi=3.14\n",
        "\n",
        "\n",
        "r=float(r)\n",
        "area=(pi * r * r)\n",
        "print(area)"
      ]
    },
    {
      "cell_type": "code",
      "source": [
        "#calculate the area of the rectangle using user input\n",
        "length=float(input(\"enter the length \"))\n",
        "breath = float(input(\"enter the breath\"))\n",
        "print(length*breath)"
      ],
      "metadata": {
        "colab": {
          "base_uri": "https://localhost:8080/"
        },
        "id": "Bc7OdDYyry5U",
        "outputId": "e238be3f-4a4e-4b6b-f26f-65adca2c79d4"
      },
      "execution_count": 15,
      "outputs": [
        {
          "output_type": "stream",
          "name": "stdout",
          "text": [
            "enter the length 20\n",
            "enter the breath40\n",
            "800.0\n"
          ]
        }
      ]
    },
    {
      "cell_type": "code",
      "source": [],
      "metadata": {
        "id": "tnGiyutzNPrn"
      },
      "execution_count": null,
      "outputs": []
    },
    {
      "cell_type": "code",
      "source": [],
      "metadata": {
        "id": "S8oQlfoyNhcH"
      },
      "execution_count": null,
      "outputs": []
    },
    {
      "cell_type": "code",
      "source": [
        "#swap the 2 no using python\n",
        "a=2\n",
        "b=3\n",
        "temp=a\n",
        "a=b\n",
        "b=temp\n",
        "print(a,b)\n"
      ],
      "metadata": {
        "colab": {
          "base_uri": "https://localhost:8080/"
        },
        "id": "2NAtwvjVsTb_",
        "outputId": "ef54a581-8e49-4196-afcc-dd105b384b70"
      },
      "execution_count": 16,
      "outputs": [
        {
          "output_type": "stream",
          "name": "stdout",
          "text": [
            "3 2\n"
          ]
        }
      ]
    },
    {
      "cell_type": "code",
      "source": [
        "#find the square root using user input\n",
        "a=float(input('write the no:'))\n",
        "print(a**0.5)\n",
        "\n",
        "#alternate method\n",
        "import math\n",
        "b=float(input('write the no'))\n",
        "c=math.sqrt(b)\n",
        "print(c)\n"
      ],
      "metadata": {
        "colab": {
          "base_uri": "https://localhost:8080/"
        },
        "id": "0QL2jGL_tdPG",
        "outputId": "d72c11b4-9e96-4c9e-a903-8163e1130ba9"
      },
      "execution_count": 19,
      "outputs": [
        {
          "output_type": "stream",
          "name": "stdout",
          "text": [
            "write the no:26\n",
            "write the no81\n",
            "5.0990195135927845\n",
            "9.0\n"
          ]
        }
      ]
    },
    {
      "cell_type": "code",
      "source": [
        "\n",
        "#solve quadratic equation using user input\n",
        "#let the quadratic eq be ax^2+bx+c=0\n",
        "a=float(input('write the value of a'))\n",
        "b=float(input('write the value of b'))\n",
        "c=float(input('write the value of c'))\n",
        "x=(-b+((b**2)-(4*a*c))**0.5)/(2*a)\n",
        "print (x)\n",
        "x=(-b-((b**2)-(4*a*c))**0.5)/(2*a)\n",
        "print (x)\n",
        "\n",
        "#alternate method\n",
        "import math\n",
        "a=float(input('write the coefficient of x^2'))\n",
        "b=float(input('write the coefficient of x'))\n",
        "c=float(input('write the constant'))\n",
        "x=(-b+math.sqrt((b*b)-4*a*c))/(2*a)\n",
        "print(x)\n",
        "\n",
        "x=(-b-math.sqrt((b*b)-4*a*c))/(2*a)\n",
        "print(x)\n"
      ],
      "metadata": {
        "colab": {
          "base_uri": "https://localhost:8080/"
        },
        "id": "ODQuBvOnvQ4E",
        "outputId": "9d6a953b-f012-4124-bfbf-69a9bab4d4b3"
      },
      "execution_count": 29,
      "outputs": [
        {
          "output_type": "stream",
          "name": "stdout",
          "text": [
            "write the value of a2\n",
            "write the value of b6\n",
            "write the value of c3\n",
            "-0.6339745962155614\n",
            "-2.3660254037844384\n",
            "write the coefficient of x^22\n",
            "write the coefficient of x6\n",
            "write the constant3\n",
            "-0.6339745962155614\n",
            "-2.3660254037844384\n"
          ]
        }
      ]
    }
  ]
}